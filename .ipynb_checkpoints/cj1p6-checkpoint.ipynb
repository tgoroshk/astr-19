{
 "cells": [
  {
   "cell_type": "code",
   "execution_count": 16,
   "id": "ac146603-116c-4c29-91ad-2f2172cf3f9b",
   "metadata": {},
   "outputs": [],
   "source": [
    "import numpy as np #import numpy\n",
    "from astropy.table import Table #import the Table class"
   ]
  },
  {
   "cell_type": "markdown",
   "id": "28070319-033c-4447-a418-49f43ea27e49",
   "metadata": {},
   "source": [
    "The function below returns sin of x"
   ]
  },
  {
   "cell_type": "code",
   "execution_count": 17,
   "id": "8df787e6-3fd5-4e16-9bc1-2d2d166bb990",
   "metadata": {},
   "outputs": [],
   "source": [
    "def sin_of_x(x):\n",
    "    return np.sin(x) "
   ]
  },
  {
   "cell_type": "markdown",
   "id": "c067e058-d144-4574-9958-ce70b6fffa80",
   "metadata": {},
   "source": [
    "The function below returns cos of x"
   ]
  },
  {
   "cell_type": "code",
   "execution_count": 18,
   "id": "d893deab-ca0e-4dc4-93da-e42c44953293",
   "metadata": {},
   "outputs": [],
   "source": [
    "def cos_of_x(x):\n",
    "    return np.cos(x) "
   ]
  },
  {
   "cell_type": "markdown",
   "id": "07fe4a1e-46cf-4c4b-a299-aeea941ee33f",
   "metadata": {},
   "source": [
    "The third python cell below will:\n",
    "tabulate sin(x) and cos(x) using the previously defined functions vs x, where x is tabulated between 0 & 2 with 1000 entries"
   ]
  },
  {
   "cell_type": "code",
   "execution_count": 19,
   "id": "8557edad-fef8-4bc4-9249-7bdf9042abe7",
   "metadata": {},
   "outputs": [],
   "source": [
    "x_values = np.linspace(0, 2, 1000) # data array, 0 to 2 in 1000 steps\n",
    "sin_values = sin_of_x(x_values)\n",
    "cos_values = cos_of_x(x_values)\n",
    "\n",
    "data_table = Table({'x':x_values, 'sin(x)': sin_values, 'cos(x)': cos_values})\n",
    "data_table['x'].info.format = '%.5f'\n",
    "data_table['sin(x)'].info.format = '%.5f'\n",
    "data_table['cos(x)'].info.format = '%.5f'"
   ]
  },
  {
   "cell_type": "markdown",
   "id": "ebcc5743-7da1-44f7-b3fd-c739d9e616e4",
   "metadata": {},
   "source": [
    "The fourth python cell below will use a for loop to print out:\n",
    "the first 10 values of x, sin(X), and cos(x) in columns"
   ]
  },
  {
   "cell_type": "code",
   "execution_count": 20,
   "id": "3e96f6d1-a5f3-42e0-a84a-c43d93de14f2",
   "metadata": {},
   "outputs": [
    {
     "name": "stdout",
     "output_type": "stream",
     "text": [
      "Here are the first 10 values of x tabulated between 0 & 2 with 1000 entries\n",
      "and the associated sin(x) and cos(x) values\n",
      "0.00000 | 0.00000 | 1.00000\n",
      "0.00200 | 0.00200 | 1.00000\n",
      "0.00400 | 0.00400 | 0.99999\n",
      "0.00601 | 0.00601 | 0.99998\n",
      "0.00801 | 0.00801 | 0.99997\n",
      "0.01001 | 0.01001 | 0.99995\n",
      "0.01201 | 0.01201 | 0.99993\n",
      "0.01401 | 0.01401 | 0.99990\n",
      "0.01602 | 0.01602 | 0.99987\n",
      "0.01802 | 0.01802 | 0.99984\n"
     ]
    }
   ],
   "source": [
    "print(\"Here are the first 10 values of x tabulated between 0 & 2 with 1000 entries\")\n",
    "print(\"and the associated sin(x) and cos(x) values\")\n",
    "\n",
    "for i in range(10): \n",
    "    x = data_table['x'][i]\n",
    "    x_sin = data_table['sin(x)'][i]\n",
    "    x_cos = data_table['cos(x)'][i]\n",
    "\n",
    "    print(f\"{x:5.5f} | {x_sin:5.5f} | {x_cos:5.5f}\")"
   ]
  }
 ],
 "metadata": {
  "kernelspec": {
   "display_name": "Python 3 (ipykernel)",
   "language": "python",
   "name": "python3"
  },
  "language_info": {
   "codemirror_mode": {
    "name": "ipython",
    "version": 3
   },
   "file_extension": ".py",
   "mimetype": "text/x-python",
   "name": "python",
   "nbconvert_exporter": "python",
   "pygments_lexer": "ipython3",
   "version": "3.14.0"
  }
 },
 "nbformat": 4,
 "nbformat_minor": 5
}
